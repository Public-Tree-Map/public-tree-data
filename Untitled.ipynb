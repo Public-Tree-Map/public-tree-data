{
 "cells": [
  {
   "cell_type": "code",
   "execution_count": 4,
   "metadata": {},
   "outputs": [],
   "source": [
    "from tree_map.parse_trees import load_trees\n",
    "tree_data_url = 'https://data.smgov.net/resource/w8ue-6cnd.csv?$limit=50000'"
   ]
  },
  {
   "cell_type": "code",
   "execution_count": 5,
   "metadata": {},
   "outputs": [],
   "source": [
    "trees_inventory_df = load_trees(tree_data_url)"
   ]
  },
  {
   "cell_type": "code",
   "execution_count": 7,
   "metadata": {},
   "outputs": [],
   "source": [
    "import pandas as pd\n",
    "\n",
    "from tree_map import DEFAULT_TREE_DATA_URL, HERITAGE_TREES_LOCATION, SPECIES_ATTIBUTES_LOCATION\n",
    "\n",
    "heritage_trees_df = pd.read_csv(HERITAGE_TREES_LOCATION)\n",
    "species_df = pd.read_csv(SPECIES_ATTIBUTES_LOCATION)"
   ]
  },
  {
   "cell_type": "markdown",
   "metadata": {},
   "source": [
    "## Species Join"
   ]
  },
  {
   "cell_type": "code",
   "execution_count": 11,
   "metadata": {},
   "outputs": [
    {
     "data": {
      "text/plain": [
       "Tree ID                         int64\n",
       "Date Modified                  object\n",
       "Species ID                      int64\n",
       "Name Botanical                 object\n",
       "Name Common                    object\n",
       "Height Group                    int64\n",
       "Height Min                    float64\n",
       "Height Max                    float64\n",
       "DBH Group                       int64\n",
       "DBH Min                       float64\n",
       "DBH Max                       float64\n",
       "District                        int64\n",
       "Location                       object\n",
       "Latitude                      float64\n",
       "Longitude                     float64\n",
       "Address                         int64\n",
       "Street                         object\n",
       "On Address                      int64\n",
       "On Street                      object\n",
       "Tree Number                     int64\n",
       "Location Description           object\n",
       "Census Tracts                 float64\n",
       "california_census_zipcodes    float64\n",
       "dtype: object"
      ]
     },
     "execution_count": 11,
     "metadata": {},
     "output_type": "execute_result"
    }
   ],
   "source": [
    "trees_inventory_df.dtypes"
   ]
  },
  {
   "cell_type": "code",
   "execution_count": 14,
   "metadata": {},
   "outputs": [
    {
     "data": {
      "text/plain": [
       "botanical_name              object\n",
       "common_name                 object\n",
       "Species ID                   int64\n",
       "family_botanical_name       object\n",
       "family_common_name          object\n",
       "native                      object\n",
       "EOL_ID                     float64\n",
       "EOL_overview_URL            object\n",
       "simplified_IUCN_status      object\n",
       "IUCN_status                 object\n",
       "IUCN_DOI_or_URL             object\n",
       "shade_production            object\n",
       "form                        object\n",
       "type                        object\n",
       "Cal_IPC_rating              object\n",
       "CAL_IPC_url                 object\n",
       "Irrigation_Requirements     object\n",
       "dtype: object"
      ]
     },
     "execution_count": 14,
     "metadata": {},
     "output_type": "execute_result"
    }
   ],
   "source": [
    "species_df.dtypes"
   ]
  },
  {
   "cell_type": "code",
   "execution_count": 22,
   "metadata": {},
   "outputs": [
    {
     "data": {
      "text/plain": [
       "Series([], dtype: int64)"
      ]
     },
     "execution_count": 22,
     "metadata": {},
     "output_type": "execute_result"
    }
   ],
   "source": [
    "# We should always run this to make sure that the data is always unique for a species!!\n",
    "species_df.groupby('botanical_name').filter(lambda g: len(g) > 1).groupby('botanical_name').size()"
   ]
  },
  {
   "cell_type": "code",
   "execution_count": 20,
   "metadata": {},
   "outputs": [
    {
     "data": {
      "text/html": [
       "<div>\n",
       "<style scoped>\n",
       "    .dataframe tbody tr th:only-of-type {\n",
       "        vertical-align: middle;\n",
       "    }\n",
       "\n",
       "    .dataframe tbody tr th {\n",
       "        vertical-align: top;\n",
       "    }\n",
       "\n",
       "    .dataframe thead th {\n",
       "        text-align: right;\n",
       "    }\n",
       "</style>\n",
       "<table border=\"1\" class=\"dataframe\">\n",
       "  <thead>\n",
       "    <tr style=\"text-align: right;\">\n",
       "      <th></th>\n",
       "      <th>Tree ID</th>\n",
       "      <th>Date Modified</th>\n",
       "      <th>Species ID_x</th>\n",
       "      <th>Name Botanical</th>\n",
       "      <th>Name Common</th>\n",
       "      <th>Height Group</th>\n",
       "      <th>Height Min</th>\n",
       "      <th>Height Max</th>\n",
       "      <th>DBH Group</th>\n",
       "      <th>DBH Min</th>\n",
       "      <th>...</th>\n",
       "      <th>EOL_overview_URL</th>\n",
       "      <th>simplified_IUCN_status</th>\n",
       "      <th>IUCN_status</th>\n",
       "      <th>IUCN_DOI_or_URL</th>\n",
       "      <th>shade_production</th>\n",
       "      <th>form</th>\n",
       "      <th>type</th>\n",
       "      <th>Cal_IPC_rating</th>\n",
       "      <th>CAL_IPC_url</th>\n",
       "      <th>Irrigation_Requirements</th>\n",
       "    </tr>\n",
       "  </thead>\n",
       "  <tbody>\n",
       "    <tr>\n",
       "      <th>0</th>\n",
       "      <td>13491185</td>\n",
       "      <td>02/27/2020 03:23:00 PM</td>\n",
       "      <td>238</td>\n",
       "      <td>Vacant site</td>\n",
       "      <td>Vacant Site</td>\n",
       "      <td>0</td>\n",
       "      <td>NaN</td>\n",
       "      <td>NaN</td>\n",
       "      <td>0</td>\n",
       "      <td>NaN</td>\n",
       "      <td>...</td>\n",
       "      <td>NaN</td>\n",
       "      <td>not listed</td>\n",
       "      <td>not listed</td>\n",
       "      <td>NaN</td>\n",
       "      <td>NaN</td>\n",
       "      <td>NaN</td>\n",
       "      <td>NaN</td>\n",
       "      <td>NaN</td>\n",
       "      <td>NaN</td>\n",
       "      <td>NaN</td>\n",
       "    </tr>\n",
       "    <tr>\n",
       "      <th>1</th>\n",
       "      <td>13491186</td>\n",
       "      <td>02/27/2020 03:23:00 PM</td>\n",
       "      <td>238</td>\n",
       "      <td>Vacant site</td>\n",
       "      <td>Vacant Site</td>\n",
       "      <td>0</td>\n",
       "      <td>NaN</td>\n",
       "      <td>NaN</td>\n",
       "      <td>0</td>\n",
       "      <td>NaN</td>\n",
       "      <td>...</td>\n",
       "      <td>NaN</td>\n",
       "      <td>not listed</td>\n",
       "      <td>not listed</td>\n",
       "      <td>NaN</td>\n",
       "      <td>NaN</td>\n",
       "      <td>NaN</td>\n",
       "      <td>NaN</td>\n",
       "      <td>NaN</td>\n",
       "      <td>NaN</td>\n",
       "      <td>NaN</td>\n",
       "    </tr>\n",
       "    <tr>\n",
       "      <th>2</th>\n",
       "      <td>13491184</td>\n",
       "      <td>02/27/2020 03:22:00 PM</td>\n",
       "      <td>238</td>\n",
       "      <td>Vacant site</td>\n",
       "      <td>Vacant Site</td>\n",
       "      <td>0</td>\n",
       "      <td>NaN</td>\n",
       "      <td>NaN</td>\n",
       "      <td>0</td>\n",
       "      <td>NaN</td>\n",
       "      <td>...</td>\n",
       "      <td>NaN</td>\n",
       "      <td>not listed</td>\n",
       "      <td>not listed</td>\n",
       "      <td>NaN</td>\n",
       "      <td>NaN</td>\n",
       "      <td>NaN</td>\n",
       "      <td>NaN</td>\n",
       "      <td>NaN</td>\n",
       "      <td>NaN</td>\n",
       "      <td>NaN</td>\n",
       "    </tr>\n",
       "    <tr>\n",
       "      <th>3</th>\n",
       "      <td>13491179</td>\n",
       "      <td>02/27/2020 03:22:00 PM</td>\n",
       "      <td>238</td>\n",
       "      <td>Vacant site</td>\n",
       "      <td>Vacant Site</td>\n",
       "      <td>0</td>\n",
       "      <td>NaN</td>\n",
       "      <td>NaN</td>\n",
       "      <td>0</td>\n",
       "      <td>NaN</td>\n",
       "      <td>...</td>\n",
       "      <td>NaN</td>\n",
       "      <td>not listed</td>\n",
       "      <td>not listed</td>\n",
       "      <td>NaN</td>\n",
       "      <td>NaN</td>\n",
       "      <td>NaN</td>\n",
       "      <td>NaN</td>\n",
       "      <td>NaN</td>\n",
       "      <td>NaN</td>\n",
       "      <td>NaN</td>\n",
       "    </tr>\n",
       "    <tr>\n",
       "      <th>4</th>\n",
       "      <td>13491180</td>\n",
       "      <td>02/27/2020 03:22:00 PM</td>\n",
       "      <td>238</td>\n",
       "      <td>Vacant site</td>\n",
       "      <td>Vacant Site</td>\n",
       "      <td>0</td>\n",
       "      <td>NaN</td>\n",
       "      <td>NaN</td>\n",
       "      <td>0</td>\n",
       "      <td>NaN</td>\n",
       "      <td>...</td>\n",
       "      <td>NaN</td>\n",
       "      <td>not listed</td>\n",
       "      <td>not listed</td>\n",
       "      <td>NaN</td>\n",
       "      <td>NaN</td>\n",
       "      <td>NaN</td>\n",
       "      <td>NaN</td>\n",
       "      <td>NaN</td>\n",
       "      <td>NaN</td>\n",
       "      <td>NaN</td>\n",
       "    </tr>\n",
       "  </tbody>\n",
       "</table>\n",
       "<p>5 rows × 40 columns</p>\n",
       "</div>"
      ],
      "text/plain": [
       "    Tree ID           Date Modified  Species ID_x Name Botanical  Name Common  \\\n",
       "0  13491185  02/27/2020 03:23:00 PM           238    Vacant site  Vacant Site   \n",
       "1  13491186  02/27/2020 03:23:00 PM           238    Vacant site  Vacant Site   \n",
       "2  13491184  02/27/2020 03:22:00 PM           238    Vacant site  Vacant Site   \n",
       "3  13491179  02/27/2020 03:22:00 PM           238    Vacant site  Vacant Site   \n",
       "4  13491180  02/27/2020 03:22:00 PM           238    Vacant site  Vacant Site   \n",
       "\n",
       "   Height Group  Height Min  Height Max  DBH Group  DBH Min  ...  \\\n",
       "0             0         NaN         NaN          0      NaN  ...   \n",
       "1             0         NaN         NaN          0      NaN  ...   \n",
       "2             0         NaN         NaN          0      NaN  ...   \n",
       "3             0         NaN         NaN          0      NaN  ...   \n",
       "4             0         NaN         NaN          0      NaN  ...   \n",
       "\n",
       "   EOL_overview_URL  simplified_IUCN_status IUCN_status  IUCN_DOI_or_URL  \\\n",
       "0               NaN              not listed  not listed              NaN   \n",
       "1               NaN              not listed  not listed              NaN   \n",
       "2               NaN              not listed  not listed              NaN   \n",
       "3               NaN              not listed  not listed              NaN   \n",
       "4               NaN              not listed  not listed              NaN   \n",
       "\n",
       "   shade_production  form type  Cal_IPC_rating CAL_IPC_url  \\\n",
       "0               NaN   NaN  NaN             NaN         NaN   \n",
       "1               NaN   NaN  NaN             NaN         NaN   \n",
       "2               NaN   NaN  NaN             NaN         NaN   \n",
       "3               NaN   NaN  NaN             NaN         NaN   \n",
       "4               NaN   NaN  NaN             NaN         NaN   \n",
       "\n",
       "   Irrigation_Requirements  \n",
       "0                      NaN  \n",
       "1                      NaN  \n",
       "2                      NaN  \n",
       "3                      NaN  \n",
       "4                      NaN  \n",
       "\n",
       "[5 rows x 40 columns]"
      ]
     },
     "execution_count": 20,
     "metadata": {},
     "output_type": "execute_result"
    }
   ],
   "source": [
    "trees_inventory_df.\\\n",
    "        merge(species_df, left_on='Name Botanical', right_on='botanical_name').\\\n",
    "        head()"
   ]
  },
  {
   "cell_type": "code",
   "execution_count": 30,
   "metadata": {},
   "outputs": [
    {
     "ename": "KeyError",
     "evalue": "\"None of [Index([('Tree ID', 'Date Modified', 'Species ID', 'Name Botanical', 'Name Common', 'Height Group', 'Height Min', 'Height Max', 'DBH Group', 'DBH Min', 'DBH Max', 'District', 'Location', 'Latitude', 'Longitude', 'Address', 'Street', 'On Address', 'On Street', 'Tree Number', 'Location Description', 'Census Tracts', 'california_census_zipcodes')], dtype='object')] are in the [columns]\"",
     "output_type": "error",
     "traceback": [
      "\u001b[0;31m---------------------------------------------------------------------------\u001b[0m",
      "\u001b[0;31mKeyError\u001b[0m                                  Traceback (most recent call last)",
      "\u001b[0;32m<ipython-input-30-667db6dc512c>\u001b[0m in \u001b[0;36m<module>\u001b[0;34m\u001b[0m\n\u001b[1;32m      1\u001b[0m \u001b[0mtrees_inventory_df\u001b[0m\u001b[0;34m.\u001b[0m\u001b[0;31m\\\u001b[0m\u001b[0;34m\u001b[0m\u001b[0;34m\u001b[0m\u001b[0m\n\u001b[1;32m      2\u001b[0m     \u001b[0mmerge\u001b[0m\u001b[0;34m(\u001b[0m\u001b[0mspecies_df\u001b[0m\u001b[0;34m,\u001b[0m \u001b[0mleft_on\u001b[0m\u001b[0;34m=\u001b[0m\u001b[0;34m'Name Botanical'\u001b[0m\u001b[0;34m,\u001b[0m \u001b[0mright_on\u001b[0m\u001b[0;34m=\u001b[0m\u001b[0;34m'botanical_name'\u001b[0m\u001b[0;34m)\u001b[0m\u001b[0;31m \u001b[0m\u001b[0;31m\\\u001b[0m\u001b[0;34m\u001b[0m\u001b[0;34m\u001b[0m\u001b[0m\n\u001b[0;32m----> 3\u001b[0;31m     \u001b[0;34m[\u001b[0m\u001b[0;34m[\u001b[0m\u001b[0mlist\u001b[0m\u001b[0;34m(\u001b[0m\u001b[0mtrees_inventory_df\u001b[0m\u001b[0;34m.\u001b[0m\u001b[0mcolumns\u001b[0m\u001b[0;34m)\u001b[0m\u001b[0;34m]\u001b[0m\u001b[0;34m]\u001b[0m\u001b[0;34m\u001b[0m\u001b[0;34m\u001b[0m\u001b[0m\n\u001b[0m",
      "\u001b[0;32m~/anaconda3/lib/python3.7/site-packages/pandas/core/frame.py\u001b[0m in \u001b[0;36m__getitem__\u001b[0;34m(self, key)\u001b[0m\n\u001b[1;32m   2932\u001b[0m                 \u001b[0mkey\u001b[0m \u001b[0;34m=\u001b[0m \u001b[0mlist\u001b[0m\u001b[0;34m(\u001b[0m\u001b[0mkey\u001b[0m\u001b[0;34m)\u001b[0m\u001b[0;34m\u001b[0m\u001b[0;34m\u001b[0m\u001b[0m\n\u001b[1;32m   2933\u001b[0m             indexer = self.loc._convert_to_indexer(key, axis=1,\n\u001b[0;32m-> 2934\u001b[0;31m                                                    raise_missing=True)\n\u001b[0m\u001b[1;32m   2935\u001b[0m \u001b[0;34m\u001b[0m\u001b[0m\n\u001b[1;32m   2936\u001b[0m         \u001b[0;31m# take() does not accept boolean indexers\u001b[0m\u001b[0;34m\u001b[0m\u001b[0;34m\u001b[0m\u001b[0;34m\u001b[0m\u001b[0m\n",
      "\u001b[0;32m~/anaconda3/lib/python3.7/site-packages/pandas/core/indexing.py\u001b[0m in \u001b[0;36m_convert_to_indexer\u001b[0;34m(self, obj, axis, is_setter, raise_missing)\u001b[0m\n\u001b[1;32m   1352\u001b[0m                 kwargs = {'raise_missing': True if is_setter else\n\u001b[1;32m   1353\u001b[0m                           raise_missing}\n\u001b[0;32m-> 1354\u001b[0;31m                 \u001b[0;32mreturn\u001b[0m \u001b[0mself\u001b[0m\u001b[0;34m.\u001b[0m\u001b[0m_get_listlike_indexer\u001b[0m\u001b[0;34m(\u001b[0m\u001b[0mobj\u001b[0m\u001b[0;34m,\u001b[0m \u001b[0maxis\u001b[0m\u001b[0;34m,\u001b[0m \u001b[0;34m**\u001b[0m\u001b[0mkwargs\u001b[0m\u001b[0;34m)\u001b[0m\u001b[0;34m[\u001b[0m\u001b[0;36m1\u001b[0m\u001b[0;34m]\u001b[0m\u001b[0;34m\u001b[0m\u001b[0;34m\u001b[0m\u001b[0m\n\u001b[0m\u001b[1;32m   1355\u001b[0m         \u001b[0;32melse\u001b[0m\u001b[0;34m:\u001b[0m\u001b[0;34m\u001b[0m\u001b[0;34m\u001b[0m\u001b[0m\n\u001b[1;32m   1356\u001b[0m             \u001b[0;32mtry\u001b[0m\u001b[0;34m:\u001b[0m\u001b[0;34m\u001b[0m\u001b[0;34m\u001b[0m\u001b[0m\n",
      "\u001b[0;32m~/anaconda3/lib/python3.7/site-packages/pandas/core/indexing.py\u001b[0m in \u001b[0;36m_get_listlike_indexer\u001b[0;34m(self, key, axis, raise_missing)\u001b[0m\n\u001b[1;32m   1159\u001b[0m         self._validate_read_indexer(keyarr, indexer,\n\u001b[1;32m   1160\u001b[0m                                     \u001b[0mo\u001b[0m\u001b[0;34m.\u001b[0m\u001b[0m_get_axis_number\u001b[0m\u001b[0;34m(\u001b[0m\u001b[0maxis\u001b[0m\u001b[0;34m)\u001b[0m\u001b[0;34m,\u001b[0m\u001b[0;34m\u001b[0m\u001b[0;34m\u001b[0m\u001b[0m\n\u001b[0;32m-> 1161\u001b[0;31m                                     raise_missing=raise_missing)\n\u001b[0m\u001b[1;32m   1162\u001b[0m         \u001b[0;32mreturn\u001b[0m \u001b[0mkeyarr\u001b[0m\u001b[0;34m,\u001b[0m \u001b[0mindexer\u001b[0m\u001b[0;34m\u001b[0m\u001b[0;34m\u001b[0m\u001b[0m\n\u001b[1;32m   1163\u001b[0m \u001b[0;34m\u001b[0m\u001b[0m\n",
      "\u001b[0;32m~/anaconda3/lib/python3.7/site-packages/pandas/core/indexing.py\u001b[0m in \u001b[0;36m_validate_read_indexer\u001b[0;34m(self, key, indexer, axis, raise_missing)\u001b[0m\n\u001b[1;32m   1244\u001b[0m                 raise KeyError(\n\u001b[1;32m   1245\u001b[0m                     u\"None of [{key}] are in the [{axis}]\".format(\n\u001b[0;32m-> 1246\u001b[0;31m                         key=key, axis=self.obj._get_axis_name(axis)))\n\u001b[0m\u001b[1;32m   1247\u001b[0m \u001b[0;34m\u001b[0m\u001b[0m\n\u001b[1;32m   1248\u001b[0m             \u001b[0;31m# We (temporarily) allow for some missing keys with .loc, except in\u001b[0m\u001b[0;34m\u001b[0m\u001b[0;34m\u001b[0m\u001b[0;34m\u001b[0m\u001b[0m\n",
      "\u001b[0;31mKeyError\u001b[0m: \"None of [Index([('Tree ID', 'Date Modified', 'Species ID', 'Name Botanical', 'Name Common', 'Height Group', 'Height Min', 'Height Max', 'DBH Group', 'DBH Min', 'DBH Max', 'District', 'Location', 'Latitude', 'Longitude', 'Address', 'Street', 'On Address', 'On Street', 'Tree Number', 'Location Description', 'Census Tracts', 'california_census_zipcodes')], dtype='object')] are in the [columns]\""
     ]
    }
   ],
   "source": [
    "trees_inventory_df.\\\n",
    "    merge(species_df, left_on='Name Botanical', right_on='botanical_name') \\\n",
    "    [[list(trees_inventory_df.columns)]]"
   ]
  },
  {
   "cell_type": "code",
   "execution_count": 29,
   "metadata": {},
   "outputs": [
    {
     "data": {
      "text/plain": [
       "['Tree ID',\n",
       " 'Date Modified',\n",
       " 'Species ID',\n",
       " 'Name Botanical',\n",
       " 'Name Common',\n",
       " 'Height Group',\n",
       " 'Height Min',\n",
       " 'Height Max',\n",
       " 'DBH Group',\n",
       " 'DBH Min',\n",
       " 'DBH Max',\n",
       " 'District',\n",
       " 'Location',\n",
       " 'Latitude',\n",
       " 'Longitude',\n",
       " 'Address',\n",
       " 'Street',\n",
       " 'On Address',\n",
       " 'On Street',\n",
       " 'Tree Number',\n",
       " 'Location Description',\n",
       " 'Census Tracts',\n",
       " 'california_census_zipcodes']"
      ]
     },
     "execution_count": 29,
     "metadata": {},
     "output_type": "execute_result"
    }
   ],
   "source": [
    "list(trees_inventory_df.columns)"
   ]
  },
  {
   "cell_type": "code",
   "execution_count": null,
   "metadata": {},
   "outputs": [],
   "source": []
  }
 ],
 "metadata": {
  "kernelspec": {
   "display_name": "Python 3",
   "language": "python",
   "name": "python3"
  },
  "language_info": {
   "codemirror_mode": {
    "name": "ipython",
    "version": 3
   },
   "file_extension": ".py",
   "mimetype": "text/x-python",
   "name": "python",
   "nbconvert_exporter": "python",
   "pygments_lexer": "ipython3",
   "version": "3.7.3"
  }
 },
 "nbformat": 4,
 "nbformat_minor": 4
}
